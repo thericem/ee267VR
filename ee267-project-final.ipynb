{
 "cells": [
  {
   "cell_type": "code",
   "execution_count": 1,
   "metadata": {},
   "outputs": [
    {
     "name": "stdout",
     "output_type": "stream",
     "text": [
      "Populating the interactive namespace from numpy and matplotlib\n"
     ]
    }
   ],
   "source": [
    "%pylab inline\n",
    "from PIL import Image\n",
    "from scipy.ndimage.interpolation import zoom\n",
    "from astropy.convolution import convolve, Gaussian1DKernel"
   ]
  },
  {
   "cell_type": "code",
   "execution_count": 2,
   "metadata": {},
   "outputs": [
    {
     "name": "stdout",
     "output_type": "stream",
     "text": [
      "0.19610449585302359\n"
     ]
    }
   ],
   "source": [
    "pixelPitch = 1/(sqrt(1600**2+900**2)/360) #for my laptop screen in mm/pixel\n",
    "print(pixelPitch)"
   ]
  },
  {
   "cell_type": "markdown",
   "metadata": {},
   "source": [
    "# Conventional DoF Blur \n",
    "Cylindrical blur, no smoothing"
   ]
  },
  {
   "cell_type": "code",
   "execution_count": 6,
   "metadata": {},
   "outputs": [
    {
     "name": "stdout",
     "output_type": "stream",
     "text": [
      "blurRadius = 8.0px\n"
     ]
    },
    {
     "data": {
      "text/plain": [
       "(10, 80)"
      ]
     },
     "execution_count": 6,
     "metadata": {},
     "output_type": "execute_result"
    },
    {
     "data": {
      "image/png": "[encoded data removed]",
      "text/plain": [
       "<matplotlib.figure.Figure at 0x1afc024cef0>"
      ]
     },
     "metadata": {},
     "output_type": "display_data"
    }
   ],
   "source": [
    "pixR = zeros((100))\n",
    "pixG = zeros((100))\n",
    "pixB = zeros((100))\n",
    "for k in range(100):\n",
    "    if k < 50:\n",
    "        pixR[k] = 255\n",
    "        pixG[k] = 255\n",
    "        pixB[k] = 255\n",
    "\n",
    "# Typical DoF blur:\n",
    "plane = .5 #meters\n",
    "pupil = 4e-3 #meters\n",
    "frag = .294 #meter\n",
    "blur = pupil / frag * abs(plane - frag)*1000 # in mm\n",
    "blurPixel = ceil(blur / (2*pixelPitch))\n",
    "print(\"blurRadius = \" + str(blurPixel) + \"px\")\n",
    "\n",
    "pixClear = pixR\n",
    "pixBlur = zeros(100)\n",
    "\n",
    "for k in range(100):\n",
    "    if k > blurPixel:\n",
    "        if k < 100-blurPixel:\n",
    "            s = 0\n",
    "            for j in range(-int(blurPixel),int(blurPixel)+1):\n",
    "                s = s + pixClear[k+j]\n",
    "            pixBlur[k] = s/(2*int(blurPixel)+1)\n",
    "\n",
    "plot(range(100), pixBlur)\n",
    "xlim([10,80])"
   ]
  },
  {
   "cell_type": "code",
   "execution_count": 9,
   "metadata": {},
   "outputs": [
    {
     "data": {
      "image/png": "[encoded data removed]",
      "text/plain": [
       "<PIL.Image.Image image mode=RGB size=1000x1 at 0x1AFC0222A20>"
      ]
     },
     "execution_count": 9,
     "metadata": {},
     "output_type": "execute_result"
    }
   ],
   "source": [
    "rgbArrayBlur = np.zeros((1,100,3), 'uint8')\n",
    "rgbArrayBlur[..., 0] = pixBlur\n",
    "rgbArrayBlur[..., 1] = pixBlur\n",
    "rgbArrayBlur[..., 2] = pixBlur\n",
    "zoom_factor = [1,10,1]\n",
    "zoomArray = zoom(rgbArrayBlur, zoom_factor)\n",
    "zoomArray.astype('uint8')\n",
    "Image.fromarray(zoomArray)"
   ]
  },
  {
   "cell_type": "markdown",
   "metadata": {},
   "source": [
    "# ChromaBlur - forward algorithm, no smoothing\n",
    "-1D defocus"
   ]
  },
  {
   "cell_type": "code",
   "execution_count": 10,
   "metadata": {},
   "outputs": [
    {
     "name": "stdout",
     "output_type": "stream",
     "text": [
      "defocusR = \n",
      "0.548951110281769\n",
      "defocusB = \n",
      "-0.9542903772785076\n",
      "fragDist = 1\n",
      "distR = 0.6455981685684646\n",
      "distB = 21.877231542534837\n",
      "blurRPixel 3.0\n",
      "blurGPixel 6.0\n",
      "blurBPixel 10.0\n"
     ]
    },
    {
     "data": {
      "text/plain": [
       "Text(0,0.5,'Saturation')"
      ]
     },
     "execution_count": 10,
     "metadata": {},
     "output_type": "execute_result"
    },
    {
     "data": {
      "image/png": "[encoded data removed]",
      "text/plain": [
       "<matplotlib.figure.Figure at 0x1afc04870f0>"
      ]
     },
     "metadata": {},
     "output_type": "display_data"
    }
   ],
   "source": [
    "l = 100 #length of array - white to black\n",
    "\n",
    "#construct in focus array\n",
    "pixR = zeros((l))\n",
    "pixG = zeros((l))\n",
    "pixB = zeros((l))\n",
    "for k in range(l):\n",
    "    if k < l/2:\n",
    "        pixR[k] = 255\n",
    "        pixG[k] = 255\n",
    "        pixB[k] = 255\n",
    "\n",
    "# Calculate the relative defocus for color channels\n",
    "r = 750 # nm\n",
    "b = 450 # nm\n",
    "# The defocus gives the focal length of the eye for\n",
    "# the red and the blue channels\n",
    "defocusR = 1.731 - 633.46/(r-214.10) # relative diopters\n",
    "defocusB = 1.731 - 633.46/(b-214.10) # relative diopters\n",
    "print(\"defocusR = \")\n",
    "print(defocusR)\n",
    "print(\"defocusB = \")\n",
    "print(defocusB)\n",
    "\n",
    "# define defocus parameters\n",
    "plane = .5 #meters\n",
    "pupil = 4e-3 #meters\n",
    "frag = 1 #meter\n",
    "print(\"fragDist = \" + str(frag))\n",
    "\n",
    "distR = 1/(1/frag + defocusR)\n",
    "distB = 1/(1/frag + defocusB)\n",
    "print(\"distR = \"+str(distR))\n",
    "print(\"distB = \"+str(distB))\n",
    "\n",
    "# Compute circle of confusion:\n",
    "ccR = ceil(1000*pupil / distR * abs(plane-distR)/(2*pixelPitch))\n",
    "ccB = ceil(1000*pupil / distB * abs(plane-distB)/(2*pixelPitch))\n",
    "ccG = ceil(1000*pupil / frag * abs(plane - frag)/(2*pixelPitch))\n",
    "\n",
    "print(\"blurRPixel \"+ str(ccR))\n",
    "print(\"blurGPixel \" + str(ccG))\n",
    "print(\"blurBPixel \" + str(ccB))\n",
    "\n",
    "pixRClear = pixR\n",
    "pixGClear = pixG\n",
    "pixBClear = pixB\n",
    "pixRBlur = zeros(l)\n",
    "pixGBlur = zeros(l)\n",
    "pixBBlur = zeros(l)\n",
    "\n",
    "# Perform blur\n",
    "for k in range(l):\n",
    "    if k > max(ccR,ccB,ccG):\n",
    "        if k < l-max(ccR,ccB,ccG):\n",
    "            sR = 0\n",
    "            ctR = 0\n",
    "            for j in range(-int(ccR),int(ccR+1)):\n",
    "                sR += pixRClear[k+j]\n",
    "                ctR += 1\n",
    "            sG = 0\n",
    "            ctG = 0\n",
    "            for j in range(-int(ccG),int(ccG+1)):\n",
    "                sG += pixGClear[k+j]\n",
    "                ctG += 1\n",
    "            sB = 0\n",
    "            ctB = 0\n",
    "            for j in range(-int(ccB),int(ccB+1)):\n",
    "                sB += pixBClear[k+j]\n",
    "                ctB += 1\n",
    "            pixRBlur[k] = sR/ctR\n",
    "            pixGBlur[k] = sG/ctG\n",
    "            pixBBlur[k] = sB/ctB\n",
    "            \n",
    "plot(range(l),pixRBlur,'r', range(l),pixGBlur, 'g', range(l),pixBBlur, 'b')\n",
    "xlim(20,80)\n",
    "xlabel('Pixels')\n",
    "ylabel('Saturation')"
   ]
  },
  {
   "cell_type": "code",
   "execution_count": 11,
   "metadata": {},
   "outputs": [
    {
     "data": {
      "image/png": "[encoded data removed]",
      "text/plain": [
       "<PIL.Image.Image image mode=RGB size=1000x1 at 0x1AFC024C198>"
      ]
     },
     "execution_count": 11,
     "metadata": {},
     "output_type": "execute_result"
    }
   ],
   "source": [
    "rgbArrayBlur = np.zeros((1,100,3), 'uint8')\n",
    "rgbArrayBlur[..., 0] = pixRBlur\n",
    "rgbArrayBlur[..., 1] = pixGBlur\n",
    "rgbArrayBlur[..., 2] = pixBBlur\n",
    "zoom_factor = [1,10,1]\n",
    "zoomArray = zoom(rgbArrayBlur, zoom_factor)\n",
    "zoomArray.astype('uint8')\n",
    "Image.fromarray(zoomArray)"
   ]
  },
  {
   "cell_type": "markdown",
   "metadata": {},
   "source": [
    "# ChromaBlur Foward Algorithm + Gaussian Smoothing\n",
    "-1D defocus"
   ]
  },
  {
   "cell_type": "code",
   "execution_count": 12,
   "metadata": {},
   "outputs": [
    {
     "name": "stdout",
     "output_type": "stream",
     "text": [
      "defocusR = \n",
      "0.548951110281769\n",
      "defocusB = \n",
      "-0.9542903772785076\n",
      "fragDist = 1\n",
      "distR = 0.6455981685684646\n",
      "distB = 21.877231542534837\n",
      "blurRPixel 3.0\n",
      "blurGPixel 6.0\n",
      "blurBPixel 10.0\n"
     ]
    },
    {
     "data": {
      "text/plain": [
       "Text(0,0.5,'Saturation')"
      ]
     },
     "execution_count": 12,
     "metadata": {},
     "output_type": "execute_result"
    },
    {
     "data": {
      "image/png": "[encoded data removed]",
      "text/plain": [
       "<matplotlib.figure.Figure at 0x1afc0452908>"
      ]
     },
     "metadata": {},
     "output_type": "display_data"
    }
   ],
   "source": [
    "l = 100 #length of array - white to black\n",
    "\n",
    "#construct in focus array\n",
    "pixR = zeros((l))\n",
    "pixG = zeros((l))\n",
    "pixB = zeros((l))\n",
    "for k in range(l):\n",
    "    if k < l/2:\n",
    "        pixR[k] = 255\n",
    "        pixG[k] = 255\n",
    "        pixB[k] = 255\n",
    "\n",
    "# Calculate the relative defocus for color channels\n",
    "r = 750 # nm\n",
    "b = 450 # nm\n",
    "# The defocus gives the focal length of the eye for\n",
    "# the red and the blue channels\n",
    "defocusR = 1.731 - 633.46/(r-214.10) # relative diopters\n",
    "defocusB = 1.731 - 633.46/(b-214.10) # relative diopters\n",
    "print(\"defocusR = \")\n",
    "print(defocusR)\n",
    "print(\"defocusB = \")\n",
    "print(defocusB)\n",
    "\n",
    "# define defocus parameters\n",
    "plane = .5 #meters\n",
    "pupil = 4e-3 #meters\n",
    "frag = 1 #meter\n",
    "print(\"fragDist = \" + str(frag))\n",
    "\n",
    "distR = 1/(1/frag + defocusR)\n",
    "distB = 1/(1/frag + defocusB)\n",
    "print(\"distR = \"+str(distR))\n",
    "print(\"distB = \"+str(distB))\n",
    "\n",
    "# Compute circle of confusion:\n",
    "ccR = ceil(1000*pupil / distR * abs(plane-distR)/(2*pixelPitch))\n",
    "ccB = ceil(1000*pupil / distB * abs(plane-distB)/(2*pixelPitch))\n",
    "ccG = ceil(1000*pupil / frag * abs(plane - frag)/(2*pixelPitch))\n",
    "\n",
    "print(\"blurRPixel \"+ str(ccR))\n",
    "print(\"blurGPixel \" + str(ccG))\n",
    "print(\"blurBPixel \" + str(ccB))\n",
    "\n",
    "pixRClear = pixR\n",
    "pixGClear = pixG\n",
    "pixBClear = pixB\n",
    "pixRBlur = zeros(l)\n",
    "pixGBlur = zeros(l)\n",
    "pixBBlur = zeros(l)\n",
    "\n",
    "# Create 1D Gaussian Kernel for each color\n",
    "t = np.linspace(-10, 10, (2*int(ccB)+1))\n",
    "kernelB = np.exp(-0.1*t**2)\n",
    "kernelB /= np.trapz(kernelB) # normalize the integral to 1\n",
    "\n",
    "t = np.linspace(-10, 10, (2*int(ccR)+1))\n",
    "kernelR = np.exp(-0.1*t**2)\n",
    "kernelR /= np.trapz(kernelR) # normalize the integral to 1\n",
    "\n",
    "t = np.linspace(-10, 10, (2*int(ccG)+1))\n",
    "kernelG = np.exp(-0.1*t**2)\n",
    "kernelG /= np.trapz(kernelG) # normalize the integral to 1\n",
    "\n",
    "for k in range(l):\n",
    "    if k > max(ccR,ccB,ccG):\n",
    "        if k < l-max(ccR,ccB,ccG):\n",
    "            sR = 0\n",
    "            for j in range(-int(ccR),int(ccR+1)):\n",
    "                sR += pixRClear[k+j]*kernelR[int(ccR)+j]\n",
    "            sG = 0\n",
    "            for j in range(-int(ccG),int(ccG+1)):\n",
    "                sG += pixGClear[k+j]*kernelG[int(ccG)+j]\n",
    "            sB = 0\n",
    "            for j in range(-int(ccB),int(ccB+1)):\n",
    "                sB += pixBClear[k+j]*kernelB[int(ccB)+j]\n",
    "            pixRBlur[k] = sR\n",
    "            pixGBlur[k] = sG\n",
    "            pixBBlur[k] = sB\n",
    "            \n",
    "plot(range(l),pixRBlur,'r', range(l),pixGBlur, 'g', range(l),pixBBlur, 'b')\n",
    "xlim(20,80)\n",
    "xlabel('Pixels')\n",
    "ylabel('Saturation')"
   ]
  },
  {
   "cell_type": "code",
   "execution_count": 13,
   "metadata": {
    "scrolled": true
   },
   "outputs": [
    {
     "data": {
      "image/png": "[encoded data removed]",
      "text/plain": [
       "<PIL.Image.Image image mode=RGB size=1000x1 at 0x1AFC024C160>"
      ]
     },
     "execution_count": 13,
     "metadata": {},
     "output_type": "execute_result"
    }
   ],
   "source": [
    "rgbArrayBlur = np.zeros((1,100,3), 'uint8')\n",
    "rgbArrayBlur[..., 0] = pixRBlur\n",
    "rgbArrayBlur[..., 1] = pixGBlur\n",
    "rgbArrayBlur[..., 2] = pixBBlur\n",
    "zoom_factor = [1,10,1]\n",
    "zoomArray = zoom(rgbArrayBlur, zoom_factor)\n",
    "zoomArray.astype('uint8')\n",
    "Image.fromarray(zoomArray)"
   ]
  },
  {
   "cell_type": "markdown",
   "metadata": {},
   "source": [
    "# ChromaBlur forward + smoothing\n",
    "+1D defocus"
   ]
  },
  {
   "cell_type": "code",
   "execution_count": 14,
   "metadata": {},
   "outputs": [
    {
     "name": "stdout",
     "output_type": "stream",
     "text": [
      "defocusR = \n",
      "0.548951110281769\n",
      "defocusB = \n",
      "-0.9542903772785076\n",
      "fragDist = 0.294\n",
      "distR = 0.2531445838864351\n",
      "distB = 0.4086519518362688\n",
      "blurRPixel 10.0\n",
      "blurGPixel 8.0\n",
      "blurBPixel 3.0\n"
     ]
    },
    {
     "data": {
      "text/plain": [
       "(20, 80)"
      ]
     },
     "execution_count": 14,
     "metadata": {},
     "output_type": "execute_result"
    },
    {
     "data": {
      "image/png": "[encoded data removed]",
      "text/plain": [
       "<matplotlib.figure.Figure at 0x1b65a8f4f60>"
      ]
     },
     "metadata": {},
     "output_type": "display_data"
    }
   ],
   "source": [
    "l = 100 #length of array - white to black\n",
    "\n",
    "#construct in focus array\n",
    "pixR = zeros((l))\n",
    "pixG = zeros((l))\n",
    "pixB = zeros((l))\n",
    "for k in range(l):\n",
    "    if k < l/2:\n",
    "        pixR[k] = 255\n",
    "        pixG[k] = 255\n",
    "        pixB[k] = 255\n",
    "\n",
    "# Calculate the relative defocus for color channels\n",
    "r = 750 # nm\n",
    "b = 450 # nm\n",
    "# The defocus gives the focal length of the eye for\n",
    "# the red and the blue channels\n",
    "defocusR = 1.731 - 633.46/(r-214.10) # relative diopters\n",
    "defocusB = 1.731 - 633.46/(b-214.10) # relative diopters\n",
    "print(\"defocusR = \")\n",
    "print(defocusR)\n",
    "print(\"defocusB = \")\n",
    "print(defocusB)\n",
    "\n",
    "# define defocus parameters\n",
    "plane = .5 #meters\n",
    "pupil = 4e-3 #meters\n",
    "frag = .294 #meter\n",
    "print(\"fragDist = \" + str(frag))\n",
    "\n",
    "distR = 1/(1/frag + defocusR)\n",
    "distB = 1/(1/frag + defocusB)\n",
    "print(\"distR = \"+str(distR))\n",
    "print(\"distB = \"+str(distB))\n",
    "\n",
    "# Compute circle of confusion:\n",
    "ccR = ceil(1000*pupil / distR * abs(plane-distR)/(2*pixelPitch))\n",
    "ccB = ceil(1000*pupil / distB * abs(plane-distB)/(2*pixelPitch))\n",
    "ccG = ceil(1000*pupil / frag * abs(plane - frag)/(2*pixelPitch))\n",
    "\n",
    "print(\"blurRPixel \"+ str(ccR))\n",
    "print(\"blurGPixel \" + str(ccG))\n",
    "print(\"blurBPixel \" + str(ccB))\n",
    "\n",
    "pixRClear = pixR\n",
    "pixGClear = pixG\n",
    "pixBClear = pixB\n",
    "pixRBlur = zeros(l)\n",
    "pixGBlur = zeros(l)\n",
    "pixBBlur = zeros(l)\n",
    "\n",
    "# Create 1D Gaussian Kernel for each color\n",
    "t = np.linspace(-10, 10, (2*int(ccB)+1))\n",
    "kernelB = np.exp(-0.1*t**2)\n",
    "kernelB /= np.trapz(kernelB) # normalize the integral to 1\n",
    "\n",
    "t = np.linspace(-10, 10, (2*int(ccR)+1))\n",
    "kernelR = np.exp(-0.1*t**2)\n",
    "kernelR /= np.trapz(kernelR) # normalize the integral to 1\n",
    "\n",
    "t = np.linspace(-10, 10, (2*int(ccG)+1))\n",
    "kernelG = np.exp(-0.1*t**2)\n",
    "kernelG /= np.trapz(kernelG) # normalize the integral to 1\n",
    "\n",
    "for k in range(l):\n",
    "    if k > max(ccR,ccB,ccG):\n",
    "        if k < l-max(ccR,ccB,ccG):\n",
    "            sR = 0\n",
    "            for j in range(-int(ccR),int(ccR+1)):\n",
    "                sR += pixRClear[k+j]*kernelR[int(ccR)+j]\n",
    "            sG = 0\n",
    "            for j in range(-int(ccG),int(ccG+1)):\n",
    "                sG += pixGClear[k+j]*kernelG[int(ccG)+j]\n",
    "            sB = 0\n",
    "            for j in range(-int(ccB),int(ccB+1)):\n",
    "                sB += pixBClear[k+j]*kernelB[int(ccB)+j]\n",
    "            pixRBlur[k] = sR\n",
    "            pixGBlur[k] = sG\n",
    "            pixBBlur[k] = sB\n",
    "            \n",
    "plot(range(l),pixRBlur,'r', range(l),pixGBlur, 'g', range(l),pixBBlur, 'b')\n",
    "xlim(20,80)"
   ]
  },
  {
   "cell_type": "code",
   "execution_count": null,
   "metadata": {
    "collapsed": true
   },
   "outputs": [],
   "source": []
  },
  {
   "cell_type": "code",
   "execution_count": null,
   "metadata": {
    "collapsed": true
   },
   "outputs": [],
   "source": []
  }
 ],
 "metadata": {
  "kernelspec": {
   "display_name": "Python 3",
   "language": "python",
   "name": "python3"
  },
  "language_info": {
   "codemirror_mode": {
    "name": "ipython",
    "version": 3
   },
   "file_extension": ".py",
   "mimetype": "text/x-python",
   "name": "python",
   "nbconvert_exporter": "python",
   "pygments_lexer": "ipython3",
   "version": "3.6.3"
  }
 },
 "nbformat": 4,
 "nbformat_minor": 2
}
